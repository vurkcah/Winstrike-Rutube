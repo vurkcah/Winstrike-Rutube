{
 "cells": [
  {
   "cell_type": "code",
   "execution_count": 1,
   "metadata": {},
   "outputs": [
    {
     "name": "stderr",
     "output_type": "stream",
     "text": [
      "c:\\VUZ\\slow_fast_test\\venv\\Lib\\site-packages\\sentence_transformers\\cross_encoder\\CrossEncoder.py:13: TqdmWarning: IProgress not found. Please update jupyter and ipywidgets. See https://ipywidgets.readthedocs.io/en/stable/user_install.html\n",
      "  from tqdm.autonotebook import tqdm, trange\n"
     ]
    }
   ],
   "source": [
    "# импорт необходимых библиотек\n",
    "import pandas as pd\n",
    "from sentence_transformers import SentenceTransformer\n",
    "from tqdm.autonotebook import tqdm\n",
    "\n",
    "import tqdm\n",
    "import random"
   ]
  },
  {
   "cell_type": "code",
   "execution_count": 2,
   "metadata": {},
   "outputs": [
    {
     "data": {
      "text/html": [
       "<div>\n",
       "<style scoped>\n",
       "    .dataframe tbody tr th:only-of-type {\n",
       "        vertical-align: middle;\n",
       "    }\n",
       "\n",
       "    .dataframe tbody tr th {\n",
       "        vertical-align: top;\n",
       "    }\n",
       "\n",
       "    .dataframe thead th {\n",
       "        text-align: right;\n",
       "    }\n",
       "</style>\n",
       "<table border=\"1\" class=\"dataframe\">\n",
       "  <thead>\n",
       "    <tr style=\"text-align: right;\">\n",
       "      <th></th>\n",
       "      <th>video_id</th>\n",
       "      <th>title</th>\n",
       "      <th>description</th>\n",
       "      <th>tags</th>\n",
       "    </tr>\n",
       "  </thead>\n",
       "  <tbody>\n",
       "    <tr>\n",
       "      <th>0</th>\n",
       "      <td>9007f33c8347924ffa12f922da2a179d</td>\n",
       "      <td>Пацанский клининг. Шоу «ЧистоТачка» | Повелите...</td>\n",
       "      <td>Тяпа и Егор бросили вызов нестареющему «повели...</td>\n",
       "      <td>Массовая культура: Юмор и сатира</td>\n",
       "    </tr>\n",
       "    <tr>\n",
       "      <th>1</th>\n",
       "      <td>9012707c45233bd601dead57bc9e2eca</td>\n",
       "      <td>СarJitsu. 3 сезон, 6 серия. Нарек Симонян vs Ж...</td>\n",
       "      <td>CarJitsu — бои в формате POP MMA, где вместо р...</td>\n",
       "      <td>События и достопримечательности:  Спортивные с...</td>\n",
       "    </tr>\n",
       "    <tr>\n",
       "      <th>2</th>\n",
       "      <td>e01d6ebabbc27e323fa1b7c581e9b96a</td>\n",
       "      <td>Злые языки | Выпуск 1, Сезон 1 | Непорочность ...</td>\n",
       "      <td>Почему Дана Борисова предпочитает молчать о по...</td>\n",
       "      <td>Массовая культура: Отношения знаменитостей, Ма...</td>\n",
       "    </tr>\n",
       "    <tr>\n",
       "      <th>3</th>\n",
       "      <td>a00b145242be3ebc3b311455e94917af</td>\n",
       "      <td>$1000 шоу | 1 выпуск | Автобоулинг</td>\n",
       "      <td>В этом выпуске, популярный автоблогер Дима Гор...</td>\n",
       "      <td>Транспорт, Спорт: Автогонки, Массовая культура</td>\n",
       "    </tr>\n",
       "    <tr>\n",
       "      <th>4</th>\n",
       "      <td>b01a682bf4dfcc09f1e8fac5bc18785a</td>\n",
       "      <td>В РОТ МНЕ НОТЫ #1 ВИТА ЧИКОВАНИ</td>\n",
       "      <td>В первом выпуске «В рот мне ноты» популярная п...</td>\n",
       "      <td>Массовая культура: Юмор и сатира</td>\n",
       "    </tr>\n",
       "    <tr>\n",
       "      <th>...</th>\n",
       "      <td>...</td>\n",
       "      <td>...</td>\n",
       "      <td>...</td>\n",
       "      <td>...</td>\n",
       "    </tr>\n",
       "    <tr>\n",
       "      <th>1044</th>\n",
       "      <td>5fe16aa2869667bc1519e32a4c536b26</td>\n",
       "      <td>Злые языки | Выпуск 3, Сезон 1 | Эксклюзив Над...</td>\n",
       "      <td>Гость выпуска – Надин Серовски. Ей предстоит о...</td>\n",
       "      <td>Массовая культура:Отношения знаменитостей: Сем...</td>\n",
       "    </tr>\n",
       "    <tr>\n",
       "      <th>1045</th>\n",
       "      <td>4ffa5fbb2a410aa841659d8890ae5e3f</td>\n",
       "      <td>МАКСИМ НАРОДНЫЙ Выпуск №15 ГОТОВИМ «ПОХМЕЛЬНЫЙ...</td>\n",
       "      <td>Предлагаю подписчикам быстро приготовить похме...</td>\n",
       "      <td>Еда и напитки: Кулинария</td>\n",
       "    </tr>\n",
       "    <tr>\n",
       "      <th>1046</th>\n",
       "      <td>3fc81df4bfe121ce2bc33dd581f5efeb</td>\n",
       "      <td>Роман Юнусов и блогерка Арина Ростовская пытаю...</td>\n",
       "      <td>В новом выпуске шоу «Спортивный Интерес» Рома ...</td>\n",
       "      <td>Спорт</td>\n",
       "    </tr>\n",
       "    <tr>\n",
       "      <th>1047</th>\n",
       "      <td>efe0b4139ef82ec270b9e2fe0216214e</td>\n",
       "      <td>Артмеханика. Сезон 2. Выпуск 18. Современные р...</td>\n",
       "      <td>“Артмеханика” представляет своих друзей! Поэты...</td>\n",
       "      <td>Книги и литература: Поэзия, Музыка и аудио,  К...</td>\n",
       "    </tr>\n",
       "    <tr>\n",
       "      <th>1048</th>\n",
       "      <td>fff1ef66d848bc8987ac5126f05b053b</td>\n",
       "      <td>Артмеханика. Концерт Анет Сай.</td>\n",
       "      <td>Артмеханика. Концерт Анет Сай.</td>\n",
       "      <td>Музыка и аудио:Современная музыка</td>\n",
       "    </tr>\n",
       "  </tbody>\n",
       "</table>\n",
       "<p>1049 rows × 4 columns</p>\n",
       "</div>"
      ],
      "text/plain": [
       "                              video_id  \\\n",
       "0     9007f33c8347924ffa12f922da2a179d   \n",
       "1     9012707c45233bd601dead57bc9e2eca   \n",
       "2     e01d6ebabbc27e323fa1b7c581e9b96a   \n",
       "3     a00b145242be3ebc3b311455e94917af   \n",
       "4     b01a682bf4dfcc09f1e8fac5bc18785a   \n",
       "...                                ...   \n",
       "1044  5fe16aa2869667bc1519e32a4c536b26   \n",
       "1045  4ffa5fbb2a410aa841659d8890ae5e3f   \n",
       "1046  3fc81df4bfe121ce2bc33dd581f5efeb   \n",
       "1047  efe0b4139ef82ec270b9e2fe0216214e   \n",
       "1048  fff1ef66d848bc8987ac5126f05b053b   \n",
       "\n",
       "                                                  title  \\\n",
       "0     Пацанский клининг. Шоу «ЧистоТачка» | Повелите...   \n",
       "1     СarJitsu. 3 сезон, 6 серия. Нарек Симонян vs Ж...   \n",
       "2     Злые языки | Выпуск 1, Сезон 1 | Непорочность ...   \n",
       "3                    $1000 шоу | 1 выпуск | Автобоулинг   \n",
       "4                       В РОТ МНЕ НОТЫ #1 ВИТА ЧИКОВАНИ   \n",
       "...                                                 ...   \n",
       "1044  Злые языки | Выпуск 3, Сезон 1 | Эксклюзив Над...   \n",
       "1045  МАКСИМ НАРОДНЫЙ Выпуск №15 ГОТОВИМ «ПОХМЕЛЬНЫЙ...   \n",
       "1046  Роман Юнусов и блогерка Арина Ростовская пытаю...   \n",
       "1047  Артмеханика. Сезон 2. Выпуск 18. Современные р...   \n",
       "1048                     Артмеханика. Концерт Анет Сай.   \n",
       "\n",
       "                                            description  \\\n",
       "0     Тяпа и Егор бросили вызов нестареющему «повели...   \n",
       "1     CarJitsu — бои в формате POP MMA, где вместо р...   \n",
       "2     Почему Дана Борисова предпочитает молчать о по...   \n",
       "3     В этом выпуске, популярный автоблогер Дима Гор...   \n",
       "4     В первом выпуске «В рот мне ноты» популярная п...   \n",
       "...                                                 ...   \n",
       "1044  Гость выпуска – Надин Серовски. Ей предстоит о...   \n",
       "1045  Предлагаю подписчикам быстро приготовить похме...   \n",
       "1046  В новом выпуске шоу «Спортивный Интерес» Рома ...   \n",
       "1047  “Артмеханика” представляет своих друзей! Поэты...   \n",
       "1048                     Артмеханика. Концерт Анет Сай.   \n",
       "\n",
       "                                                   tags  \n",
       "0                      Массовая культура: Юмор и сатира  \n",
       "1     События и достопримечательности:  Спортивные с...  \n",
       "2     Массовая культура: Отношения знаменитостей, Ма...  \n",
       "3        Транспорт, Спорт: Автогонки, Массовая культура  \n",
       "4                      Массовая культура: Юмор и сатира  \n",
       "...                                                 ...  \n",
       "1044  Массовая культура:Отношения знаменитостей: Сем...  \n",
       "1045                           Еда и напитки: Кулинария  \n",
       "1046                                              Спорт  \n",
       "1047  Книги и литература: Поэзия, Музыка и аудио,  К...  \n",
       "1048                  Музыка и аудио:Современная музыка  \n",
       "\n",
       "[1049 rows x 4 columns]"
      ]
     },
     "execution_count": 2,
     "metadata": {},
     "output_type": "execute_result"
    }
   ],
   "source": [
    "# загрузка тренировочных данных, содержащих необходимые title и description видео\n",
    "train_data_file_data = pd.read_csv(\"./train_data_categories.csv\")\n",
    "train_data_file_data"
   ]
  },
  {
   "cell_type": "markdown",
   "metadata": {},
   "source": [
    "# СОСТАВЛЕНИЕ ДАТАСЕТА"
   ]
  },
  {
   "cell_type": "code",
   "execution_count": 3,
   "metadata": {},
   "outputs": [],
   "source": [
    "# чтение всех возможных тегов\n",
    "with open(\"./organized_tags.txt\", \"r\", encoding=\"utf-8\") as file:\n",
    "    organized_tags_list = file.read().split('\\n')"
   ]
  },
  {
   "cell_type": "code",
   "execution_count": 4,
   "metadata": {},
   "outputs": [],
   "source": [
    "train_data_file_data = pd.read_csv(\"./train_data_categories.csv\")\n",
    "# получаем массив тегов, относящихся к конкретному видео\n",
    "splitted_tag_list = [str(val).split(\", \") for val in train_data_file_data['tags'].to_list()]"
   ]
  },
  {
   "cell_type": "code",
   "execution_count": 5,
   "metadata": {},
   "outputs": [],
   "source": [
    "# составление строки, по которой будем производить сопоставление тегов\n",
    "train_data_file_data['title_plus_description'] = train_data_file_data['title'] + \" \" + train_data_file_data['description']\n",
    "title_plus_description_list = train_data_file_data['title_plus_description'].to_list()"
   ]
  },
  {
   "cell_type": "code",
   "execution_count": 6,
   "metadata": {},
   "outputs": [
    {
     "name": "stderr",
     "output_type": "stream",
     "text": [
      "100%|██████████| 1049/1049 [00:00<00:00, 22604.24it/s]\n"
     ]
    }
   ],
   "source": [
    "tags_num = len(organized_tags_list)\n",
    "\n",
    "# составление тренировочного набора данных\n",
    "with open(\"./train_data.txt\", \"w\", encoding=\"utf-8\") as file:\n",
    "    # читаем строку с названием и описанием видео \n",
    "    for idx, title_plus_desc in enumerate(tqdm.tqdm(title_plus_description_list)):\n",
    "        # добавляем \"положительные\" соотношения описания и тега\n",
    "        for val in splitted_tag_list[idx]:\n",
    "            file.write(f\"{title_plus_desc} ||| {val}\".replace('\\n', \" \").replace(\"  \", \" \") + f\" ||| {random.randint(80, 99) / 100.0}\\n\")\n",
    "        \n",
    "        bad_examples_list_count = 0\n",
    "        try_count_num = 1000\n",
    "        cur_try_count = 0\n",
    "        # генерируем случайные \"отрицательные\" соотношения описания и тега\n",
    "        while (bad_examples_list_count < 3 and try_count_num > cur_try_count):\n",
    "            cur_try_count += 1\n",
    "            cur_tag_num = random.randint(0, tags_num - 1)\n",
    "            cur_tag = organized_tags_list[cur_tag_num]\n",
    "            is_skeep = False\n",
    "            for val in splitted_tag_list[idx]:\n",
    "                if (val in cur_tag) or (cur_tag in val):\n",
    "                    is_skeep = True\n",
    "                    break\n",
    "\n",
    "            if not is_skeep:\n",
    "                bad_examples_list_count += 1\n",
    "                file.write(f\"{title_plus_desc} ||| {cur_tag}\".replace('\\n', \" \").replace(\"  \", \" \") + f\" ||| {random.randint(5, 20) / 100.0}\\n\")\n",
    "\n",
    "\n",
    "                \n"
   ]
  },
  {
   "cell_type": "markdown",
   "metadata": {},
   "source": [
    "# КОНЕЦ СОСТАВЛЕНИЯ ДАТАСЕТА"
   ]
  },
  {
   "cell_type": "code",
   "execution_count": 8,
   "metadata": {},
   "outputs": [
    {
     "data": {
      "text/plain": [
       "(4720,\n",
       " ('Пацанский клининг. Шоу «ЧистоТачка» | Повелитель ночи | Выпуск 17 Тяпа и Егор бросили вызов нестареющему «повелителю ночи». Смогут ли они подарить ему статус «ЧистоТачки»?',\n",
       "  'Наука: География',\n",
       "  0.06))"
      ]
     },
     "execution_count": 8,
     "metadata": {},
     "output_type": "execute_result"
    }
   ],
   "source": [
    "import random\n",
    "# создаем массив для обучения\n",
    "train_data = []\n",
    "\n",
    "# считываем тренировочные данные из файла и преобразуем их\n",
    "with open(\"./train_data.txt\", \"r\", encoding=\"utf-8\") as file:\n",
    "    file_data = file.read().split('\\n')\n",
    "    for data in file_data:\n",
    "        splitted_data = data.split(\" ||| \")\n",
    "        try:\n",
    "            train_data.append((splitted_data[0], splitted_data[1], float(splitted_data[2])))\n",
    "        except:\n",
    "            continue\n",
    "\n",
    "len(train_data), train_data[1]\n"
   ]
  },
  {
   "cell_type": "code",
   "execution_count": 9,
   "metadata": {},
   "outputs": [],
   "source": [
    "from sentence_transformers import InputExample, losses\n",
    "from torch.utils.data import DataLoader\n",
    "\n",
    "train_examples = [InputExample(texts=[text1, text2], label=score) for text1, text2, score in train_data]\n",
    "train_dataloader = DataLoader(train_examples, shuffle=True, batch_size=16)"
   ]
  },
  {
   "cell_type": "code",
   "execution_count": 10,
   "metadata": {},
   "outputs": [
    {
     "name": "stderr",
     "output_type": "stream",
     "text": [
      "No sentence-transformers model found with name DeepPavlov/rubert-base-cased-sentence. Creating a new one with mean pooling.\n"
     ]
    }
   ],
   "source": [
    "model = SentenceTransformer('DeepPavlov/rubert-base-cased-sentence', )"
   ]
  },
  {
   "cell_type": "code",
   "execution_count": 11,
   "metadata": {},
   "outputs": [],
   "source": [
    "from sentence_transformers import losses\n",
    "\n",
    "train_loss = losses.CosineSimilarityLoss(model)"
   ]
  },
  {
   "cell_type": "code",
   "execution_count": null,
   "metadata": {},
   "outputs": [],
   "source": [
    "# производим обучение модели\n",
    "model.fit(\n",
    "    train_objectives=[(train_dataloader, train_loss)],\n",
    "    epochs=10\n",
    ")"
   ]
  },
  {
   "cell_type": "code",
   "execution_count": 9,
   "metadata": {},
   "outputs": [
    {
     "name": "stderr",
     "output_type": "stream",
     "text": [
      "                                                                     \r"
     ]
    }
   ],
   "source": [
    "# сохраняем обученную модель\n",
    "model.save(\"./trained_model\")"
   ]
  },
  {
   "cell_type": "code",
   "execution_count": 10,
   "metadata": {},
   "outputs": [],
   "source": [
    "# проверяем успешность сохранения\n",
    "model_1 = SentenceTransformer(\"./trained_model\")"
   ]
  },
  {
   "cell_type": "code",
   "execution_count": 11,
   "metadata": {},
   "outputs": [
    {
     "data": {
      "text/plain": [
       "SentenceTransformer(\n",
       "  (0): Transformer({'max_seq_length': 512, 'do_lower_case': False}) with Transformer model: BertModel \n",
       "  (1): Pooling({'word_embedding_dimension': 768, 'pooling_mode_cls_token': False, 'pooling_mode_mean_tokens': True, 'pooling_mode_max_tokens': False, 'pooling_mode_mean_sqrt_len_tokens': False, 'pooling_mode_weightedmean_tokens': False, 'pooling_mode_lasttoken': False, 'include_prompt': True})\n",
       ")"
      ]
     },
     "execution_count": 11,
     "metadata": {},
     "output_type": "execute_result"
    }
   ],
   "source": [
    "model_1"
   ]
  }
 ],
 "metadata": {
  "kernelspec": {
   "display_name": "venv",
   "language": "python",
   "name": "python3"
  },
  "language_info": {
   "codemirror_mode": {
    "name": "ipython",
    "version": 3
   },
   "file_extension": ".py",
   "mimetype": "text/x-python",
   "name": "python",
   "nbconvert_exporter": "python",
   "pygments_lexer": "ipython3",
   "version": "3.12.6"
  }
 },
 "nbformat": 4,
 "nbformat_minor": 2
}
