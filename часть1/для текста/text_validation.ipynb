{
 "cells": [
  {
   "cell_type": "code",
   "execution_count": 1,
   "metadata": {},
   "outputs": [
    {
     "name": "stderr",
     "output_type": "stream",
     "text": [
      "h:\\RUTUBE_HACK\\venv\\Lib\\site-packages\\sentence_transformers\\cross_encoder\\CrossEncoder.py:13: TqdmExperimentalWarning: Using `tqdm.autonotebook.tqdm` in notebook mode. Use `tqdm.tqdm` instead to force console mode (e.g. in jupyter console)\n",
      "  from tqdm.autonotebook import tqdm, trange\n"
     ]
    }
   ],
   "source": [
    "import pandas as pd\n",
    "from sentence_transformers import SentenceTransformer\n",
    "import numpy as np \n",
    "import faiss\n"
   ]
  },
  {
   "cell_type": "code",
   "execution_count": 2,
   "metadata": {},
   "outputs": [],
   "source": [
    "model_path = \"./winstrike_rutube_tags_model\" # путь до папки с моделью SentenceTransformer\n",
    "model = SentenceTransformer(model_path, )\n",
    "dim = 768 # размер вектора эмбеддинга"
   ]
  },
  {
   "cell_type": "markdown",
   "metadata": {},
   "source": [
    "СОХРАНЕНИЕ EMBENDDING'ОВ ТЕГОВ(Запускать если отсутствует файл tags_embeddings.npy)"
   ]
  },
  {
   "cell_type": "code",
   "execution_count": 3,
   "metadata": {},
   "outputs": [],
   "source": [
    "# обозначение тайтлов тегов\n",
    "lvl_1_label = \"Уровень 1 (iab)\"\n",
    "lvl_2_label = \"Уровень 2 (iab)\"\n",
    "lvl_3_label = \"Уровень 3 (iab)\""
   ]
  },
  {
   "cell_type": "code",
   "execution_count": 4,
   "metadata": {},
   "outputs": [],
   "source": [
    "# Читаем csv-файл с тегами\n",
    "tags_df = pd.read_csv(\"./IAB_tags.csv\").fillna(\"\")\n",
    "# Фильтруем полностью пустые строки\n",
    "tags_df = tags_df.loc[(tags_df[lvl_1_label] != \"\") | (tags_df[lvl_2_label] != \"\") | (tags_df[lvl_3_label] != \"\")]\n",
    "\n",
    "tags_list = []\n",
    "\n",
    "with open(\"./organized_tags.txt\", mode=\"w\", encoding='utf-8') as file:\n",
    "    for row in tags_df.iterrows():\n",
    "        tag = row[1][lvl_1_label]\n",
    "        if row[1][lvl_2_label] != \"\":\n",
    "            tag = tag + \": \" + row[1][lvl_2_label]\n",
    "        else:\n",
    "            tags_list.append(tag)\n",
    "            continue    \n",
    "        if row[1][lvl_3_label] != \"\":\n",
    "            tag = tag + \": \" + row[1][lvl_3_label]\n",
    "        else:\n",
    "            tags_list.append(tag)\n",
    "            continue\n",
    "        tags_list.append(tag)\n",
    "\n",
    "    file.write(\"\\n\".join(tags_list))"
   ]
  },
  {
   "cell_type": "code",
   "execution_count": null,
   "metadata": {},
   "outputs": [],
   "source": [
    "# преобразование строкового представления тега в вектор чисел (embedding)\n",
    "embedding_tags_list = []\n",
    "\n",
    "for str_tag in tags_list:\n",
    "    embedding_tags_list.append(model.encode(str_tag, convert_to_tensor=True).cpu().numpy())\n",
    "\n",
    "embedding_tags_list"
   ]
  },
  {
   "cell_type": "code",
   "execution_count": 17,
   "metadata": {},
   "outputs": [],
   "source": [
    "# сохранение векторов тегов в .npy файл для последующего использования\n",
    "np_embedding_tags_list = np.array(embedding_tags_list, dtype=np.float64)\n",
    "\n",
    "with open(\"./tags_embeddings.npy\", \"wb\") as file:\n",
    "    np.save(file, np_embedding_tags_list)"
   ]
  },
  {
   "cell_type": "markdown",
   "metadata": {},
   "source": [
    "ФУНКЦИЯ ПОЛУЧЕНИЯ ТЕГОВ ПО НАЗВАНИЮ И ОПИСАНИЮ ВИДЕО"
   ]
  },
  {
   "cell_type": "code",
   "execution_count": 3,
   "metadata": {},
   "outputs": [],
   "source": [
    "# Чтение embedding тегов\n",
    "with open('./tags_embeddings.npy', \"rb\") as f:\n",
    "    np_tags_arr = np.load(f)"
   ]
  },
  {
   "cell_type": "code",
   "execution_count": 4,
   "metadata": {},
   "outputs": [],
   "source": [
    "# Чтение всех тегов\n",
    "with open('./organized_tags.txt', \"r\", encoding=\"utf-8\") as f:\n",
    "    all_tags_list = f.read().split('\\n')"
   ]
  },
  {
   "cell_type": "code",
   "execution_count": 5,
   "metadata": {},
   "outputs": [],
   "source": [
    "def get_predict_from_title_and_description(title : str, description : str) -> list:\n",
    "    \"\"\" Получение тегов к видео по наименованию и описанию \"\"\"\n",
    "    global model, dim, np_tags_arr\n",
    "    \n",
    "    embedding = model.encode(title + \" \" + description, convert_to_tensor=True).cpu().numpy()\n",
    "    index = faiss.index_factory(dim, \"Flat\", faiss.METRIC_INNER_PRODUCT)\n",
    "    index.add(np_tags_arr)\n",
    "\n",
    "\n",
    "    topn = 3\n",
    "    scores, predictions = index.search(np.array([list(embedding)], dtype=np.float64), topn)\n",
    "\n",
    "\n",
    "    return scores[0], [all_tags_list[idx] for idx in predictions[0]]\n"
   ]
  },
  {
   "cell_type": "code",
   "execution_count": 6,
   "metadata": {},
   "outputs": [
    {
     "data": {
      "text/plain": [
       "(array([346.06934, 314.75943, 313.5791 ], dtype=float32),\n",
       " ['Еда и напитки: Кулинария',\n",
       "  'Массовая культура',\n",
       "  'Массовая культура: Юмор и сатира'])"
      ]
     },
     "execution_count": 6,
     "metadata": {},
     "output_type": "execute_result"
    }
   ],
   "source": [
    "get_predict_from_title_and_description(\"МАКСИМ НАРОДНЫЙ\", \"Выпуск №43 ГОТОВИМ СЭНДВИЧ С КИРИЛЛОМ ФОКИНЫМ-САЗОНОВЫМ,Ведущий канала Максим и приглашенный гость популярный блогер Кирилл Фокин-Сазонов предлагают своим подписчикам приготовить сэндвич. Главный герой делает акцент на том, что это простое блюдо можно приготовить быстро и бюджетно.\")"
   ]
  },
  {
   "cell_type": "code",
   "execution_count": 9,
   "metadata": {},
   "outputs": [],
   "source": [
    "def get_tags(title : str, description : str, video_path : str):\n",
    "    \"\"\" Получение тегов к видео \"\"\"\n",
    "    # Получение тегов всех уровней по описанию\n",
    "    scores, tags_from_text = get_predict_from_title_and_description(title, description)\n",
    "    # Получение тегов первого уровня по видеоряду\n",
    "    tags_from_video = []\n",
    "\n",
    "    result_tags = []\n",
    "\n",
    "    # отфильтровываем теги, на которых модель сомневается\n",
    "    tags_from_text = [tag for (idx, tag) in enumerate(tags_from_text) if int(scores[idx]) > 250]\n",
    "\n",
    "    if not len(tags_from_text):\n",
    "        return tags_from_video\n",
    "\n",
    "    # сопоставление полученных тегов, поиск пересечений\n",
    "    for tag_from_text in tags_from_text:\n",
    "        for tag_from_video in tags_from_video:\n",
    "            if (tag_from_video in tag_from_text):\n",
    "                result_tags.append(tag_from_text)\n",
    "                break\n",
    "    \n",
    "    if not len(result_tags):\n",
    "        return tags_from_text\n",
    "    \n",
    "    return result_tags"
   ]
  },
  {
   "cell_type": "markdown",
   "metadata": {},
   "source": [
    "ВАРИАНТ ДЛЯ BACKEND'А"
   ]
  },
  {
   "cell_type": "code",
   "execution_count": 7,
   "metadata": {},
   "outputs": [
    {
     "ename": "SyntaxError",
     "evalue": "incomplete input (2597908440.py, line 1)",
     "output_type": "error",
     "traceback": [
      "\u001b[1;36m  Cell \u001b[1;32mIn[7], line 1\u001b[1;36m\u001b[0m\n\u001b[1;33m    '''def get_tags(title : str, description : str, lvl_1_tags : list[str]) -> list[str]:\u001b[0m\n\u001b[1;37m    ^\u001b[0m\n\u001b[1;31mSyntaxError\u001b[0m\u001b[1;31m:\u001b[0m incomplete input\n"
     ]
    }
   ],
   "source": [
    "# def get_tags(title : str, description : str, lvl_1_tags : list[str]) -> list[str]:\n",
    "#     scores, tags_from_text = get_predict_from_title_and_description(title, description)\n",
    "\n",
    "#     result_tags = []\n",
    "\n",
    "#     # отфильтрорываем теги, на которых модель сомневается\n",
    "#     tags_from_text = [tag for (idx, tag) in enumerate(tags_from_text) if int(scores[idx]) > 250]\n",
    "\n",
    "#     if not len(tags_from_text):\n",
    "#             return lvl_1_tags\n",
    "\n",
    "#     for tag_from_text in tags_from_text:\n",
    "#         for tag_from_video in lvl_1_tags:\n",
    "#             if (tag_from_video in tag_from_text):\n",
    "#                 result_tags.append(tag_from_text)\n",
    "#                 break\n",
    "    \n",
    "#     if not len(result_tags):\n",
    "#         return tags_from_text\n",
    "    \n",
    "#     return result_tags"
   ]
  },
  {
   "cell_type": "code",
   "execution_count": 12,
   "metadata": {},
   "outputs": [
    {
     "data": {
      "text/plain": [
       "[]"
      ]
     },
     "execution_count": 12,
     "metadata": {},
     "output_type": "execute_result"
    }
   ],
   "source": [
    "#Пример если модель не уверна\n",
    "get_tags(\"asdasdasd.  dasdsad\", \"asdsadasdad\", \"\")"
   ]
  },
  {
   "cell_type": "code",
   "execution_count": 11,
   "metadata": {},
   "outputs": [
    {
     "data": {
      "text/plain": [
       "['Еда и напитки: Кулинария',\n",
       " 'Массовая культура',\n",
       " 'Массовая культура: Юмор и сатира']"
      ]
     },
     "execution_count": 11,
     "metadata": {},
     "output_type": "execute_result"
    }
   ],
   "source": [
    "get_tags(\"МАКСИМ НАРОДНЫЙ\", \"Выпуск №43 ГОТОВИМ СЭНДВИЧ С КИРИЛЛОМ ФОКИНЫМ-САЗОНОВЫМ,Ведущий канала Максим и приглашенный гость популярный блогер Кирилл Фокин-Сазонов предлагают своим подписчикам приготовить сэндвич. Главный герой делает акцент на том, что это простое блюдо можно приготовить быстро и бюджетно.\", \"\")"
   ]
  },
  {
   "cell_type": "code",
   "execution_count": null,
   "metadata": {},
   "outputs": [],
   "source": []
  }
 ],
 "metadata": {
  "kernelspec": {
   "display_name": "venv",
   "language": "python",
   "name": "python3"
  },
  "language_info": {
   "codemirror_mode": {
    "name": "ipython",
    "version": 3
   },
   "file_extension": ".py",
   "mimetype": "text/x-python",
   "name": "python",
   "nbconvert_exporter": "python",
   "pygments_lexer": "ipython3",
   "version": "3.12.6"
  }
 },
 "nbformat": 4,
 "nbformat_minor": 2
}
